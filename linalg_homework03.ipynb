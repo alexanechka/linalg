{
  "nbformat": 4,
  "nbformat_minor": 0,
  "metadata": {
    "colab": {
      "name": "linalg_homework03.ipynb",
      "provenance": [],
      "collapsed_sections": [],
      "authorship_tag": "ABX9TyPYtwlUfdQ+ylnNLsULx5b4",
      "include_colab_link": true
    },
    "kernelspec": {
      "name": "python3",
      "display_name": "Python 3"
    },
    "language_info": {
      "name": "python"
    }
  },
  "cells": [
    {
      "cell_type": "markdown",
      "metadata": {
        "id": "view-in-github",
        "colab_type": "text"
      },
      "source": [
        "<a href=\"https://colab.research.google.com/github/alexanechka/linalg/blob/main/linalg_homework03.ipynb\" target=\"_parent\"><img src=\"https://colab.research.google.com/assets/colab-badge.svg\" alt=\"Open In Colab\"/></a>"
      ]
    },
    {
      "cell_type": "markdown",
      "source": [
        "\n",
        "##Линейная алгебра##\n",
        "###Практическое задание к уроку 3##"
      ],
      "metadata": {
        "id": "uqW-_ZFozijY"
      }
    },
    {
      "cell_type": "markdown",
      "source": [
        "__1.__ Найти собственные векторы и собственные значения для линейного оператора, заданного матрицей\n",
        "\n",
        "$A=\\begin{pmatrix}\n",
        "-1 & -6\\\\ \n",
        "2 & 6\n",
        "\\end{pmatrix}.$"
      ],
      "metadata": {
        "id": "VW90CKcPzo1w"
      }
    },
    {
      "cell_type": "markdown",
      "source": [
        "$Ax = λx $\n",
        "$$$$\n",
        "$ det (A-λ) = \\begin{vmatrix}\n",
        "-1 - λ & -6 \\\\\n",
        "2 & 6 - λ \n",
        "\\end{vmatrix} = 0$\n",
        "$$$$\n",
        "$(-1 - λ) \\cdot (6 - \\lambda) - 2 \\cdot (-6) = 0$\n",
        "\n",
        "$\\lambda ^2 - 6 \\lambda + \\lambda - 6 + 12 = 0$\n",
        "\n",
        "$\\lambda ^2 - 5\\lambda + 6 =0$\n",
        "\n",
        "$D = b^2 - 4ac = 25 - 24 = 1$\n",
        "\n",
        "$λ_1 = \\frac{5 + 1}{2}= 3$\n",
        "\n",
        "\n",
        "$λ_2 = \\frac{5 - 1}{2}= 2$\n",
        "$$$$\n",
        "\n",
        "$Ax = \\lambda x$\n",
        "\n",
        "Для $λ_1$\n",
        "\n",
        "$\\begin{pmatrix}\n",
        "-1 & -6\\\\ \n",
        "2 & 6\n",
        "\\end{pmatrix}\n",
        "\\begin{pmatrix}\n",
        "x_{1}\\\\ \n",
        "x_{2}\n",
        "\\end{pmatrix}=\n",
        "3\n",
        "\\begin{pmatrix}\n",
        "x_{1}\\\\ \n",
        "x_{2}\n",
        "\\end{pmatrix}$\n",
        "\n",
        "$\\begin{cases}\n",
        "-x_{1}-6\\cdot x_{2}=3\\cdot x_{1}, \\\\\n",
        "2\\cdot x_{1}+6\\cdot x_{2}=3\\cdot x_{2},\n",
        "\\end{cases}$\n",
        "\n",
        "$\\begin{cases}\n",
        "-4 x_{1}=6 x_{2}, \\\\\n",
        "2 x_{1}=-3 x_{2},\n",
        "\\end{cases}$\n",
        "\n",
        "__Ответ__  $ 2 x_1 = -3 x_2 $\n",
        "\n",
        "Для $x_{2}=2$, $x_{1}=-3 ⇒$ получается вектор $(-3,2)$\n",
        "\n",
        "\n",
        "$$$$\n",
        "Для $λ_2$\n",
        "\n",
        "$\\begin{pmatrix}\n",
        "-1 & -6\\\\ \n",
        "2 & 6\n",
        "\\end{pmatrix}\n",
        "\\begin{pmatrix}\n",
        "x_{1}\\\\ \n",
        "x_{2}\n",
        "\\end{pmatrix}=\n",
        "2\n",
        "\\begin{pmatrix}\n",
        "x_{1}\\\\ \n",
        "x_{2}\n",
        "\\end{pmatrix}$\n",
        "\n",
        "$\\begin{cases}\n",
        "-x_{1}-6\\cdot x_{2}=2\\cdot x_{1}, \\\\\n",
        "2\\cdot x_{1}+6\\cdot x_{2}=2\\cdot x_{2},\n",
        "\\end{cases}$\n",
        "\n",
        "$\\begin{cases}\n",
        "-3x_{1}=6 x_{2}, \\\\\n",
        "2 x_{1}=-4 x_{2},\n",
        "\\end{cases}$\n",
        "\n",
        "__Ответ__  $ x_1 = -2 x_2 $\n",
        "\n",
        "Для $x_{2}=1$, $x_{1}=-2 ⇒$ получается вектор $(-2,1)$\n",
        "$$$$"
      ],
      "metadata": {
        "id": "X6SStpgSzyce"
      }
    },
    {
      "cell_type": "markdown",
      "source": [
        "__2.__ Дан оператор поворота на 180 градусов, задаваемый матрицей \n",
        "\n",
        "$A=\\begin{pmatrix}\n",
        "-1 & 0\\\\ \n",
        "0 & -1\n",
        "\\end{pmatrix}.$\n",
        "\n",
        "Показать, что __любой__ вектор является для него собственным."
      ],
      "metadata": {
        "id": "-uDAEDX_zy5m"
      }
    },
    {
      "cell_type": "markdown",
      "source": [
        "$Ax = λx $\n",
        "$$$$\n",
        "$ det (A-λ) = \\begin{vmatrix}\n",
        "-1 - λ & -1 \\\\\n",
        "0 & -1 - λ \n",
        "\\end{vmatrix} = 0$\n",
        "$$$$\n",
        "$(-1 - λ) \\cdot (-1 - \\lambda)  = 0$\n",
        "\n",
        "$(-1 - λ)^2  = 0$\n",
        "\n",
        "$λ_1 = λ_2 = -1$\n",
        "\n",
        "$$$$\n",
        "\n",
        "$Ax = \\lambda x$\n",
        "\n",
        "$\\begin{pmatrix}\n",
        "-1 & 0\\\\ \n",
        "0& -1\n",
        "\\end{pmatrix}\n",
        "\\begin{pmatrix}\n",
        "x_{1}\\\\ \n",
        "x_{2}\n",
        "\\end{pmatrix}=\n",
        "-1\n",
        "\\begin{pmatrix}\n",
        "x_{1}\\\\ \n",
        "x_{2}\n",
        "\\end{pmatrix}$\n",
        "\n",
        "$\\begin{cases}\n",
        "-x_{1}=-x_{1}, \\\\\n",
        "-x_{2}=-x_{2},\n",
        "\\end{cases}$\n",
        "\n",
        "__Ответ__  $x_{1}$ и $x_{2}$ не зависят от $\\lambda ⇒ x_{1} $и $x_{2}$  - любые \n",
        "$$$$"
      ],
      "metadata": {
        "id": "ba-6dxlXzyr9"
      }
    },
    {
      "cell_type": "markdown",
      "source": [
        "__3.__ Пусть линейный оператор задан матрицей\n",
        "\n",
        "$A=\\begin{pmatrix}\n",
        "1 & 1\\\\ \n",
        "-1 & 3\n",
        "\\end{pmatrix}.$\n",
        "\n",
        "Установить, является ли вектор $x=(1,1)$ собственным вектором этого линейного оператора."
      ],
      "metadata": {
        "id": "XKcrE0F50CQU"
      }
    },
    {
      "cell_type": "markdown",
      "source": [
        "$Ax = \\lambda x$\n",
        "\n",
        "$\\begin{pmatrix}\n",
        "1 & 1\\\\ \n",
        "-1& 3\n",
        "\\end{pmatrix}\n",
        "\\begin{pmatrix}\n",
        "1\\\\ \n",
        "1\n",
        "\\end{pmatrix}=\n",
        "λ\n",
        "\\begin{pmatrix}\n",
        "1\\\\ \n",
        "1\n",
        "\\end{pmatrix}$\n",
        "\n",
        "$\\begin{cases}\n",
        "1 + 1=\\lambda, \\\\\n",
        "-1 + 3=λ,\n",
        "\\end{cases}$\n",
        "\n",
        "$ λ = 2$\n",
        "\n",
        "__Ответ__ тк существует $λ$ для выражения $Ax = \\lambda x$ вектор $x=(1,1)$ является собственным вектором линейного оператора $A$\n",
        "$$$$"
      ],
      "metadata": {
        "id": "xGQoNrhczy09"
      }
    },
    {
      "cell_type": "markdown",
      "source": [
        "__4.__ Пусть линейный оператор задан матрицей\n",
        "\n",
        "$A=\\begin{pmatrix}\n",
        "0 & 3 & 0\\\\ \n",
        "3 & 0 & 0\\\\\n",
        "0 & 0 & 3\n",
        "\\end{pmatrix}.$\n",
        "\n",
        "Установить, является ли вектор $x=(3, -3, -4)$ собственным вектором этого линейного оператора."
      ],
      "metadata": {
        "id": "S9IwRxVI0DlE"
      }
    },
    {
      "cell_type": "markdown",
      "source": [
        "$Ax = \\lambda x$\n",
        "\n",
        "$\\begin{pmatrix}\n",
        "0 & 3 & 0\\\\ \n",
        "3& 0 & 0\\\\\n",
        "0&0&3\n",
        "\\end{pmatrix}\n",
        "\\begin{pmatrix}\n",
        "3\\\\\n",
        "-3\\\\ \n",
        "-4\n",
        "\\end{pmatrix}=\n",
        "λ\n",
        "\\begin{pmatrix}\n",
        "3\\\\\n",
        "-3\\\\ \n",
        "-4\n",
        "\\end{pmatrix}$\n",
        "\n",
        "$\\begin{cases}\n",
        "-9=3\\lambda, \\\\\n",
        "-9=-3\\lambda, \\\\\n",
        "-12 =-4λ,\n",
        "\\end{cases}$\n",
        "\n",
        "$\\begin{cases}\n",
        "-3=\\lambda, \\\\\n",
        "3=3\\lambda, \\\\\n",
        "3 =λ,\n",
        "\\end{cases}$\n",
        "\n",
        "\n",
        "__Ответ__ полученная система уравнений не имеет смысла, вектор  x=(3,−3,−4)  не является собственным вектором линейного оператора $A$\n",
        " $$$$"
      ],
      "metadata": {
        "id": "lRRQTqvKbJqE"
      }
    }
  ]
}