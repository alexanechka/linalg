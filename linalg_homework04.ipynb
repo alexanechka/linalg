{
  "nbformat": 4,
  "nbformat_minor": 0,
  "metadata": {
    "colab": {
      "name": "linalg_homework04.ipynb",
      "provenance": [],
      "collapsed_sections": [],
      "authorship_tag": "ABX9TyMTSVRwZuY7ttj3esfD+CEs",
      "include_colab_link": true
    },
    "kernelspec": {
      "name": "python3",
      "display_name": "Python 3"
    },
    "language_info": {
      "name": "python"
    }
  },
  "cells": [
    {
      "cell_type": "markdown",
      "metadata": {
        "id": "view-in-github",
        "colab_type": "text"
      },
      "source": [
        "<a href=\"https://colab.research.google.com/github/alexanechka/linalg/blob/main/linalg_homework04.ipynb\" target=\"_parent\"><img src=\"https://colab.research.google.com/assets/colab-badge.svg\" alt=\"Open In Colab\"/></a>"
      ]
    },
    {
      "cell_type": "markdown",
      "source": [
        "\n",
        "##Линейная алгебра##\n",
        "###Практическое задание к уроку 4.1##"
      ],
      "metadata": {
        "id": "SblUDVSy2tPe"
      }
    },
    {
      "cell_type": "markdown",
      "source": [
        "__1.__ Решить систему уравнений методом Гаусса:\n",
        "\n",
        "$\\begin{cases}\n",
        "x_{1}+x_{2}-x_{3}-2x_{4}=0, \\\\\n",
        "2x_{1}+x_{2}-x_{3}+x_{4}=-2, \\\\\n",
        "x_{1}+x_{2}-3x_{3}+x_{4}=4.\n",
        "\\end{cases}$"
      ],
      "metadata": {
        "id": "yvKMQ_Xv2-Av"
      }
    },
    {
      "cell_type": "markdown",
      "source": [
        "$\\begin{pmatrix}\n",
        "\\left.\\begin{matrix}\n",
        "1 & 1 & -1 & -2 \\\\ \n",
        "2 & 1 & -1 & 1 \\\\ \n",
        "1 & 1 & -3 & 1\\\\\n",
        "\\end{matrix}\n",
        "\\right|\\begin{matrix}\n",
        "0\\\\ \n",
        "-2\\\\\n",
        "4\\\\\n",
        "\\end{matrix}\n",
        "\\end{pmatrix}$\n",
        "$$$$\n",
        "\n",
        "Первую строку умножим на $-2$ и прибавляем к второй строке, первую строку умножаем на $-1$ и прибавляем к третьей строке\n",
        "\n",
        "$\\begin{pmatrix}\n",
        "\\left.\\begin{matrix}\n",
        "1 & 1 & -1 & -2 \\\\ \n",
        "0 & -1 & 1 & 5 \\\\ \n",
        "0 & 0 & -2 & 3\\\\\n",
        "\\end{matrix}\n",
        "\\right|\\begin{matrix}\n",
        "0\\\\ \n",
        "-2\\\\\n",
        "4\\\\\n",
        "\\end{matrix}\n",
        "\\end{pmatrix}$\n",
        "$$$$\n",
        "\n",
        "$\\begin{pmatrix}\n",
        "\\left.\\begin{matrix}\n",
        "1 & 1 & -1 & -2 \\\\ \n",
        "0 & -1 & 1 & 5 \\\\ \n",
        "0 & 0 & 1 & -\\frac{3}{2}\\\\\n",
        "\\end{matrix}\n",
        "\\right|\\begin{matrix}\n",
        "0\\\\ \n",
        "-2\\\\\n",
        "-2\\\\\n",
        "\\end{matrix}\n",
        "\\end{pmatrix}$\n",
        "\n",
        "$$$$\n",
        "$\\begin{cases}\n",
        "x_{1}+x_{2}-x_{3}-2x_{4}=0, \\\\\n",
        "x_{2}-x_{3}-5x_{4}=2, \\\\\n",
        "x_{3}-\\frac{3}{2}x_{4}=-2.\n",
        "\\end{cases}$\n",
        "$$$$\n",
        "$\\begin{cases}\n",
        "x_{1}=-(\\frac{3}{2}x_{4} +5x_{4})+\\frac{3}{2}x_{4}-2+2x_{4}, \\\\\n",
        "x_{2}=\\frac{3}{2}x_{4} -2+5x_{4}+2, \\\\\n",
        "x_{3}=\\frac{3}{2}x_{4} -2.\n",
        "\\end{cases}$\n",
        "$$$$\n",
        "$\\begin{cases}\n",
        "x_{1}=-3x_{4}-2, \\\\\n",
        "x_{2}=\\frac{13}{2}x_{4}, \\\\\n",
        "x_{3}=\\frac{3}{2}x_{4} -2.\n",
        "\\end{cases}$\n",
        "$$$$\n",
        "__Ответ__ $x_4$ - произвольное действительное число\n",
        "$$$$"
      ],
      "metadata": {
        "id": "GFUBYxNDAep_"
      }
    },
    {
      "cell_type": "markdown",
      "source": [
        "__2.__ Проверить на совместность и выяснить, сколько решений будет иметь система линейных уравнений:\n",
        "\n",
        "   а) $\\begin{cases}\n",
        "3x_{1}-x_{2}+x_{3}=4, \\\\\n",
        "2x_{1}-5x_{2}-3x_{3}=-17, \\\\\n",
        "x_{1}+x_{2}-x_{3}=0;\n",
        "\\end{cases}$\n",
        "    \n",
        "   б) $\\begin{cases}\n",
        "2x_{1}-4x_{2}+6x_{3}=1, \\\\\n",
        "x_{1}-2x_{2}+3x_{3}=-2, \\\\\n",
        "3x_{1}-6x_{2}+9x_{3}=5;\n",
        "\\end{cases}$\n",
        "    \n",
        "   в) $\\begin{cases}\n",
        "x_{1}+2x_{2}+5x_{3}=4, \\\\\n",
        "3x_{1}+x_{2}-8x_{3}=-2. \n",
        "\\end{cases}$\n"
      ],
      "metadata": {
        "id": "ZmGTKmrC2-E9"
      }
    },
    {
      "cell_type": "markdown",
      "source": [
        "__Теорема__ \n",
        "\n",
        "Необходимым и достаточным условием совместности системы из $m$ уравнений с $n$ неизвестными является равенство между собой рангов матрицы коэффициентов $A$ и расширенной матрицы $\\tilde A$\n",
        "\n",
        "$rank A=rank \\tilde A.$"
      ],
      "metadata": {
        "id": "X8piXtKhZoaV"
      }
    },
    {
      "cell_type": "markdown",
      "source": [
        "Причем:<br>\n",
        "1) если $rankA=rank \\tilde A=n$, где $n$ — число неизвестных, то система определена, т. е. имеет единственное решение;<br>\n",
        "2) если $rankA=rank \\tilde A<n$, то система имеет бесконечное количество решений;<br>\n",
        "3) если $rankA<rank \\tilde A$, то система несовместна."
      ],
      "metadata": {
        "id": "HDMZkkrpZ4wc"
      }
    },
    {
      "cell_type": "code",
      "source": [
        "import numpy as np\n",
        "\n",
        "def check_rank(A, b):\n",
        "  A_ext = np.column_stack([A, b])\n",
        "\n",
        "  rank_A = np.linalg.matrix_rank(A)\n",
        "  rank_A_ext = np.linalg.matrix_rank(A_ext)\n",
        "  n = len(A[0])\n",
        "\n",
        "  if rank_A == rank_A_ext == n:\n",
        "    print(f'Система имеет единственное решение.')\n",
        "  elif rank_A == rank_A_ext < n:\n",
        "    print(f'Система имеет бесконечное кол-во решений.')\n",
        "  elif rank_A < rank_A_ext:\n",
        "    print(f'Система несовместна.')\n"
      ],
      "metadata": {
        "id": "8c0MAjJOcv5b"
      },
      "execution_count": 1,
      "outputs": []
    },
    {
      "cell_type": "code",
      "source": [
        "#a\n",
        "A = np.array([[3, -1, 1], [2, -5, -3], [1, 1, -1]])\n",
        "b = np.array([4, -17, 0])\n",
        "\n",
        "check_rank(A, b)"
      ],
      "metadata": {
        "colab": {
          "base_uri": "https://localhost:8080/"
        },
        "id": "pbVzNdM4c5QG",
        "outputId": "84f49fc8-39ee-4b09-c081-52475b31015e"
      },
      "execution_count": 2,
      "outputs": [
        {
          "output_type": "stream",
          "name": "stdout",
          "text": [
            "Система имеет единственное решение.\n"
          ]
        }
      ]
    },
    {
      "cell_type": "code",
      "source": [
        "#b\n",
        "A = np.array([[2, -4, 6], [1, -2, 3], [3, -6, 9]])\n",
        "b = np.array([1, -2, 5])\n",
        "\n",
        "check_rank(A, b)"
      ],
      "metadata": {
        "colab": {
          "base_uri": "https://localhost:8080/"
        },
        "id": "vuT7EQnsdJWX",
        "outputId": "74089b46-d0a3-4d03-9bfd-647cfa97852b"
      },
      "execution_count": 3,
      "outputs": [
        {
          "output_type": "stream",
          "name": "stdout",
          "text": [
            "Система несовместна.\n"
          ]
        }
      ]
    },
    {
      "cell_type": "code",
      "source": [
        "A = np.array([[1, 2, 5], [3, 1, -8]])\n",
        "b = np.array([4, -2])\n",
        "\n",
        "check_rank(A, b)"
      ],
      "metadata": {
        "colab": {
          "base_uri": "https://localhost:8080/"
        },
        "id": "X_EEcmv5degS",
        "outputId": "54acbc57-ab55-4f33-c028-7385b90b8c86"
      },
      "execution_count": 4,
      "outputs": [
        {
          "output_type": "stream",
          "name": "stdout",
          "text": [
            "Система имеет бесконечное кол-во решений.\n"
          ]
        }
      ]
    },
    {
      "cell_type": "markdown",
      "source": [
        "__3.__ Проверить на совместность и выяснить, сколько решений будет иметь система линейных уравнений, заданная расширенной матрицей\n",
        "\n",
        "$\\tilde{A}=\\begin{pmatrix}\n",
        "\\left.\\begin{matrix}\n",
        "1 & 3 & -2 & 4\\\\ \n",
        "0 & 5 & 0 & 1\\\\ \n",
        "0 & 0 & 3 & 0\\\\ \n",
        "0 & 0 & 0 & 2\n",
        "\\end{matrix}\\right|\n",
        "\\begin{matrix}\n",
        "3\\\\ \n",
        "2\\\\\n",
        "4\\\\\n",
        "1\n",
        "\\end{matrix}\n",
        "\\end{pmatrix}.$"
      ],
      "metadata": {
        "id": "cB2uC5SY2-Lm"
      }
    },
    {
      "cell_type": "code",
      "source": [
        "A = np.array([[1, 3, -2, 4], [0, 2,0, 1], [0, 0, 3, 0], [0, 0,0, 2]])\n",
        "b = np.array([3, 2, 4, 1])\n",
        "\n",
        "check_rank(A, b)"
      ],
      "metadata": {
        "colab": {
          "base_uri": "https://localhost:8080/"
        },
        "id": "IxCcxUFYdng0",
        "outputId": "7016c725-2e9f-46bb-8dff-f07375382cd8"
      },
      "execution_count": 5,
      "outputs": [
        {
          "output_type": "stream",
          "name": "stdout",
          "text": [
            "Система имеет единственное решение.\n"
          ]
        }
      ]
    },
    {
      "cell_type": "markdown",
      "source": [
        "__4.__ Дана система линейных уравнений, заданная расширенной матрицей\n",
        "\n",
        "$\\tilde{A}=\\begin{pmatrix}\n",
        "\\left.\\begin{matrix}\n",
        "1 & 2 & 3\\\\ \n",
        "4 & 5 & 6\\\\ \n",
        "7 & 8 & 9\n",
        "\\end{matrix}\\right|\n",
        "\\begin{matrix}\n",
        "a\\\\ \n",
        "b\\\\\n",
        "c\n",
        "\\end{matrix}\n",
        "\\end{pmatrix}.$\n",
        "\n",
        "Найти соотношение между параметрами $a$, $b$ и $c$, при которых система является несовместной."
      ],
      "metadata": {
        "id": "cNddPewV2-Pl"
      }
    },
    {
      "cell_type": "markdown",
      "source": [
        "$\\begin{pmatrix}\n",
        "\\left.\\begin{matrix}\n",
        "1 & 2 & 3 \\\\ \n",
        "4 & 5 & 6 \\\\ \n",
        "7 & 8 & 9\n",
        "\\end{matrix}\\right|\n",
        "\\begin{matrix}\n",
        "a\\\\ \n",
        "b\\\\\n",
        "c\n",
        "\\end{matrix}\n",
        "\\end{pmatrix}$\n",
        "$$$$\n",
        "\n",
        "1 строку умножим на 2 и вычтем и 2 строки.<br>\n",
        "1 строку умножим на 3 и вычтем и 3 строки.<br>\n",
        "$$$$\n",
        "\n",
        "$\\begin{pmatrix}\n",
        "\\left.\\begin{matrix}\n",
        "1 & 2 & 3 \\\\ \n",
        "2 & 1 & 0 \\\\ \n",
        "4 & 2 & 0\n",
        "\\end{matrix}\\right|\n",
        "\\begin{matrix}\n",
        "a\\\\ \n",
        "b - 2a\\\\\n",
        "c - 3a\n",
        "\\end{matrix}\n",
        "\\end{pmatrix}$\n",
        "$$$$\n",
        "\n",
        "2 строку умножим на 2 и вычтем из 3 строки. <br>\n",
        "$$$$\n",
        "\n",
        "$\\begin{pmatrix}\n",
        "\\left.\\begin{matrix}\n",
        "1 & 2 & 3 \\\\ \n",
        "2 & 1 & 0 \\\\ \n",
        "0 & 0 & 0\n",
        "\\end{matrix}\\right|\n",
        "\\begin{matrix}\n",
        "a\\\\ \n",
        "b - 2a\\\\\n",
        "c + a - 2b\n",
        "\\end{matrix}\n",
        "\\end{pmatrix}$\n",
        "$$$$\n",
        "Система несовместна, если  $rankA<rankA~$\n",
        "\n",
        "$rankA<rankA~$ при $c + a - 2b \\neq 0$\n",
        "$$$$"
      ],
      "metadata": {
        "id": "srbd3WveeHmR"
      }
    },
    {
      "cell_type": "markdown",
      "source": [
        "###Практическое задание к уроку 4.2##"
      ],
      "metadata": {
        "id": "e2BLoYoh2-TB"
      }
    },
    {
      "cell_type": "markdown",
      "source": [
        "__1.__ Решить систему уравнений методом Крамера:\n",
        "\n",
        "   а) $\\begin{cases}\n",
        "x_{1}-2x_{2}=1 \\\\\n",
        "3x_{1}-4x_{2}=7\n",
        "\\end{cases}$\n",
        "    \n",
        "   б) $\\begin{cases}\n",
        "2x_{1}-x_{2}+5x_{3}=10 \\\\\n",
        "x_{1}+x_{2}-3x_{3}=-2 \\\\\n",
        "2x_{1}+4x_{2}+x_{3}=1\n",
        "\\end{cases}$"
      ],
      "metadata": {
        "id": "Wzbcs18q3g8_"
      }
    },
    {
      "cell_type": "code",
      "source": [
        "# a\n",
        "\n",
        "A = np.array([[1, -2], [3, -4]])\n",
        "b = np.array([1, 7])\n",
        "\n",
        "det_A = np.linalg.det(A)\n",
        "print(det_A)  "
      ],
      "metadata": {
        "colab": {
          "base_uri": "https://localhost:8080/"
        },
        "id": "c-odAYSknunF",
        "outputId": "63057fc6-5e73-432d-8cd0-f31a2f0e69b8"
      },
      "execution_count": 35,
      "outputs": [
        {
          "output_type": "stream",
          "name": "stdout",
          "text": [
            "2.0000000000000004\n"
          ]
        }
      ]
    },
    {
      "cell_type": "code",
      "source": [
        "bA1 = np.column_stack([b, A[:, 1]])\n",
        "det_bA1 = np.linalg.det(bA1)\n",
        "\n",
        "A0b = np.column_stack([A[:, 0], b])\n",
        "det_A0b = np.linalg.det(A0b)\n",
        "\n",
        "print('Ответ')\n",
        "print(det_bA1/det_A)\n",
        "print(det_A0b/det_A)"
      ],
      "metadata": {
        "colab": {
          "base_uri": "https://localhost:8080/"
        },
        "id": "x1_lLMfLlm8r",
        "outputId": "3e78bdbc-b1bd-4932-fa34-3d13c264d474"
      },
      "execution_count": 37,
      "outputs": [
        {
          "output_type": "stream",
          "name": "stdout",
          "text": [
            "Ответ\n",
            "4.999999999999998\n",
            "1.9999999999999991\n"
          ]
        }
      ]
    },
    {
      "cell_type": "code",
      "source": [
        "# b\n",
        "\n",
        "A = np.array([[2, -1, 5], [1, 1, -3], [2, 4, 1]])\n",
        "b = np.array([10, -2, 1])\n",
        "\n",
        "det_A = np.linalg.det(A)\n",
        "print(det_A) "
      ],
      "metadata": {
        "colab": {
          "base_uri": "https://localhost:8080/"
        },
        "id": "MJtRkfz2mcHd",
        "outputId": "bbe7e555-7e38-48e5-e497-9a70d6916528"
      },
      "execution_count": 38,
      "outputs": [
        {
          "output_type": "stream",
          "name": "stdout",
          "text": [
            "42.99999999999998\n"
          ]
        }
      ]
    },
    {
      "cell_type": "code",
      "source": [
        "bA12 = np.column_stack([b, A[:, 1:]])\n",
        "det_bA12 = np.linalg.det(bA12)\n",
        "\n",
        "A0bA2 = np.column_stack([A[:, 0], b, A[:, 2]])\n",
        "det_A0bA2 = np.linalg.det(A0bA2)\n",
        "\n",
        "A0A1b = np.column_stack([A[:, 0:2], b])\n",
        "det_A0A1b = np.linalg.det(A0A1b)\n",
        "\n",
        "print('Ответ')\n",
        "print(det_bA12/det_A)\n",
        "print(det_A0bA2/det_A)\n",
        "print(det_A0A1b/det_A)"
      ],
      "metadata": {
        "colab": {
          "base_uri": "https://localhost:8080/"
        },
        "id": "X4NKFiUbnYFn",
        "outputId": "53a415d1-dcb9-4af9-d564-b728b6fe4568"
      },
      "execution_count": 42,
      "outputs": [
        {
          "output_type": "stream",
          "name": "stdout",
          "text": [
            "Ответ\n",
            "2.0000000000000018\n",
            "-1.0000000000000009\n",
            "1.0\n"
          ]
        }
      ]
    },
    {
      "cell_type": "markdown",
      "source": [
        "__2.__ Найти $L$-матрицу $LU$-разложения для матрицы коэффициентов:\n",
        "\n",
        "   а)$$\\begin{pmatrix}\n",
        "1 & 2 & 4 \\\\ \n",
        "2 & 9 & 12 \\\\ \n",
        "3 & 26 & 30\n",
        "\\end{pmatrix}$$\n",
        "    \n",
        "   б)$$\\begin{pmatrix}\n",
        "1 & 1 & 2 & 4\\\\ \n",
        "2 & 5 & 8 & 9\\\\ \n",
        "3 & 18 & 29 & 18\\\\\n",
        "4 & 22 & 53 & 33\n",
        "\\end{pmatrix}$$"
      ],
      "metadata": {
        "id": "D7FuX4ON3hAg"
      }
    },
    {
      "cell_type": "code",
      "source": [
        "# a\n",
        "A = np.array([[1, 2, 4], [2, 9, 12], [3, 26, 30]])\n",
        "p, l, u = scipy.linalg.lu(A)\n",
        "\n",
        "print('Ответ')\n",
        "print(l)"
      ],
      "metadata": {
        "colab": {
          "base_uri": "https://localhost:8080/"
        },
        "id": "UnkqZd2MMj1k",
        "outputId": "a70b98e8-874a-4013-9999-754f9b419c2f"
      },
      "execution_count": 50,
      "outputs": [
        {
          "output_type": "stream",
          "name": "stdout",
          "text": [
            "Ответ\n",
            "[[1.         0.         0.        ]\n",
            " [0.66666667 1.         0.        ]\n",
            " [0.33333333 0.8        1.        ]]\n"
          ]
        }
      ]
    },
    {
      "cell_type": "code",
      "source": [
        "# b\n",
        "A = np.array([[1, 1, 2, 4], [2, 5, 8, 9], [3, 18, 29, 18], [4, 22, 53, 33]])\n",
        "p, l, u = scipy.linalg.lu(A)\n",
        "\n",
        "print('Ответ')\n",
        "print(l)"
      ],
      "metadata": {
        "colab": {
          "base_uri": "https://localhost:8080/"
        },
        "id": "T1fxZjWsMscb",
        "outputId": "a426e0d3-e2b9-4db4-a9e2-7f152eb9d0d4"
      },
      "execution_count": 51,
      "outputs": [
        {
          "output_type": "stream",
          "name": "stdout",
          "text": [
            "Ответ\n",
            "[[ 1.          0.          0.          0.        ]\n",
            " [ 0.5         1.          0.          0.        ]\n",
            " [ 0.75       -0.25        1.          0.        ]\n",
            " [ 0.25        0.75       -0.17073171  1.        ]]\n"
          ]
        }
      ]
    },
    {
      "cell_type": "markdown",
      "source": [
        "__3.__ Решить систему линейных уравнений методом $LU$-разложения\n",
        "\n",
        "$$\\begin{cases}\n",
        "2x_{1}+x_{2}+3x_{3}=1 \\\\\n",
        "11x_{1}+7x_{2}+5x_{3}=-6 \\\\\n",
        "9x_{1}+8x_{2}+4x_{3}=-5\n",
        "\\end{cases}$$"
      ],
      "metadata": {
        "id": "E1oyXLXe3hD0"
      }
    },
    {
      "cell_type": "code",
      "source": [
        "A = np.array([[2, 1, 3], [11, 7, 5], [9, 8, 4]])\n",
        "b = [1, -6, -5]\n",
        "\n",
        "lu, piv = scipy.linalg.lu_factor(A)\n",
        "x = scipy.linalg.lu_solve((lu, piv), b)\n",
        "\n",
        "print('Ответ')\n",
        "print(x)"
      ],
      "metadata": {
        "colab": {
          "base_uri": "https://localhost:8080/"
        },
        "id": "4C6iJk9zPQWq",
        "outputId": "5e5119a8-3dbc-484c-95b2-2747a6dd672f"
      },
      "execution_count": 53,
      "outputs": [
        {
          "output_type": "stream",
          "name": "stdout",
          "text": [
            "Ответ\n",
            "[-1.  0.  1.]\n"
          ]
        }
      ]
    },
    {
      "cell_type": "markdown",
      "source": [
        "__4.__ Решить систему линейных уравнений методом Холецкого\n",
        "\n",
        "$$\\begin{cases}\n",
        "81x_{1}-45x_{2}+45x_{3}=531 \\\\\n",
        "-45x_{1}+50x_{2}-15x_{3}=-460 \\\\\n",
        "45x_{1}-15x_{2}+38x_{3}=193\n",
        "\\end{cases}$$"
      ],
      "metadata": {
        "id": "fqURgl5p3rZG"
      }
    },
    {
      "cell_type": "code",
      "source": [
        "A = np.array([[81, -45, 45], [-45, 50, -15], [45, -15, 38]])\n",
        "b = np.array([531, -460, 193])\n",
        "\n",
        "cho = scipy.linalg.cho_factor(A)\n",
        "x = scipy.linalg.cho_solve(cho, b)\n",
        "\n",
        "print('Ответ')\n",
        "print(x)"
      ],
      "metadata": {
        "colab": {
          "base_uri": "https://localhost:8080/"
        },
        "id": "eQ7_5F5nJ0qi",
        "outputId": "b3d3c2ba-9e2f-40f1-a40f-7fcce6170732"
      },
      "execution_count": 49,
      "outputs": [
        {
          "output_type": "stream",
          "name": "stdout",
          "text": [
            "Ответ\n",
            "[ 6. -5. -4.]\n"
          ]
        }
      ]
    }
  ]
}