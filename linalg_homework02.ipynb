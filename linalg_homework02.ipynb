{
  "nbformat": 4,
  "nbformat_minor": 0,
  "metadata": {
    "colab": {
      "name": "linalg_homework02.ipynb",
      "provenance": [],
      "collapsed_sections": [],
      "authorship_tag": "ABX9TyNylQE86v9u4ZnbUrozJBVY",
      "include_colab_link": true
    },
    "kernelspec": {
      "name": "python3",
      "display_name": "Python 3"
    },
    "language_info": {
      "name": "python"
    }
  },
  "cells": [
    {
      "cell_type": "markdown",
      "metadata": {
        "id": "view-in-github",
        "colab_type": "text"
      },
      "source": [
        "<a href=\"https://colab.research.google.com/github/alexanechka/linalg/blob/main/linalg_homework02.ipynb\" target=\"_parent\"><img src=\"https://colab.research.google.com/assets/colab-badge.svg\" alt=\"Open In Colab\"/></a>"
      ]
    },
    {
      "cell_type": "markdown",
      "source": [
        "\n",
        "##Линейная алгебра##\n",
        "###Практическое задание к уроку 2.1##"
      ],
      "metadata": {
        "id": "K914Hftppp7f"
      }
    },
    {
      "cell_type": "code",
      "source": [
        "import numpy as np\n",
        "import scipy.linalg\n",
        "import math"
      ],
      "metadata": {
        "id": "-hyes9zXw6Fy"
      },
      "execution_count": null,
      "outputs": []
    },
    {
      "cell_type": "markdown",
      "source": [
        "__1.__ Установить, какие произведения матриц $AB$ и $BA$ определены$AB$ и $BA$ определены, и найти размерности полученных матриц:\n",
        "\n",
        "   а) $A$ — матрица $4\\times 2$, $B$ — матрица $4\\times 2$;\n",
        "\n",
        "   Произведения $AB$ и $BA$ не определены, т.к. матрицы содержат 4 строки и 2 столбца\n",
        "\n",
        "    \n",
        "   б) $A$ — матрица $2\\times 5$, $B$ — матрица $5\\times 3$;\n",
        "\n",
        "   Произведение $AB$ не определено, т.к. матрица $A$ содержит 2 строки, а матрица $B$ - 3 столбца. Произведение $BA$ определено, размер полученной матрицы $2\\times 3$\n",
        "    \n",
        "   в) $A$ — матрица $8\\times 3$, $B$ — матрица $3\\times 8$;\n",
        "   \n",
        "   Произведение $AB$ определено, размер полученной матрицы $3\\times 3$  Произведение $BA$ определено, размер полученной матрицы $8\\times 8$  \n",
        "    \n",
        "   г) $A$ — квадратная матрица $4\\times 4$, $B$ — квадратная матрица $4\\times 4$.\n",
        "   \n",
        "   Произведения $AB$ и $BA$ определены, размер полученных матриц $4\\times 4$"
      ],
      "metadata": {
        "id": "HY4SRflopsNp"
      }
    },
    {
      "cell_type": "code",
      "source": [
        "A = np.array([[1, -2], [3, 0], [5, 5],[4,6],[6,2]])\n",
        "B = np.array([[4, -1, 5,3,1], [0, 5,2,1,3], [1,2,3,2,1]])\n",
        "print('Matrix A ', A)\n",
        "print('Matrix B ', B)\n",
        "# print ('A @ B ', A @ B)\n",
        "print ('B @ A ', B @ A) "
      ],
      "metadata": {
        "colab": {
          "base_uri": "https://localhost:8080/"
        },
        "id": "WZMr-Ry7s4o3",
        "outputId": "c215e4be-9f3d-40f4-85a4-80ec486e9e3f"
      },
      "execution_count": null,
      "outputs": [
        {
          "output_type": "stream",
          "name": "stdout",
          "text": [
            "Matrix A  [[ 1 -2]\n",
            " [ 3  0]\n",
            " [ 5  5]\n",
            " [ 4  6]\n",
            " [ 6  2]]\n",
            "Matrix B  [[ 4 -1  5  3  1]\n",
            " [ 0  5  2  1  3]\n",
            " [ 1  2  3  2  1]]\n",
            "B @ A  [[44 37]\n",
            " [47 22]\n",
            " [36 27]]\n"
          ]
        }
      ]
    },
    {
      "cell_type": "code",
      "source": [
        "B = np.array([[1, -2, 7], [3, 0, 9], [5, 5, 1],[4,6, 2],[6,2, 7], [4, 8, 9],[5,2, 9],[0,9,2]])\n",
        "A = np.array([[4, -1, 5,3,1,5,4,5], [0, 5,2,1,3,3,2,2], [1,2,3,2,1,2,1,2]])\n",
        "print('Matrix A ', A)\n",
        "print('Matrix B ', B)\n",
        "print ('A @ B ', A @ B)\n",
        "print ('B @ A ', B @ A) "
      ],
      "metadata": {
        "colab": {
          "base_uri": "https://localhost:8080/"
        },
        "id": "gMw4rv7EuwZI",
        "outputId": "39598573-f908-4b51-8f67-aae15c46b454"
      },
      "execution_count": null,
      "outputs": [
        {
          "output_type": "stream",
          "name": "stdout",
          "text": [
            "Matrix A  [[ 4 -1  5  3  1  5  4  5]\n",
            " [ 0  5  2  1  3  3  2  2]\n",
            " [ 1  2  3  2  1  2  1  2]]\n",
            "Matrix B  [[ 1 -2  7]\n",
            " [ 3  0  9]\n",
            " [ 5  5  1]\n",
            " [ 4  6  2]\n",
            " [ 6  2  7]\n",
            " [ 4  8  9]\n",
            " [ 5  2  9]\n",
            " [ 0  9  2]]\n",
            "A @ B  [[ 84 130 128]\n",
            " [ 69  68 119]\n",
            " [ 49  63  70]]\n",
            "B @ A  [[11  3 22 15  2 13  7 15]\n",
            " [21 15 42 27 12 33 21 33]\n",
            " [21 22 38 22 21 42 31 37]\n",
            " [18 30 38 22 24 42 30 36]\n",
            " [31 18 55 34 19 50 35 48]\n",
            " [25 54 63 38 37 62 41 54]\n",
            " [29 23 56 35 20 49 33 47]\n",
            " [ 2 49 24 13 29 31 20 22]]\n"
          ]
        }
      ]
    },
    {
      "cell_type": "markdown",
      "source": [
        "__2.__ Найти сумму и произведение матриц $A=\\begin{pmatrix}\n",
        "1 & -2\\\\ \n",
        "3 & 0\n",
        "\\end{pmatrix}$ и $B=\\begin{pmatrix}\n",
        "4 & -1\\\\ \n",
        "0 & 5\n",
        "\\end{pmatrix}.$\n",
        "\n",
        "\n",
        "$A + B=\\begin{pmatrix}\n",
        "1 & -2\\\\ \n",
        "3 & 0\n",
        "\\end{pmatrix} + \\begin{pmatrix}\n",
        "4 & -1\\\\ \n",
        "0 & 5\n",
        "\\end{pmatrix} = \\begin{pmatrix}\n",
        "5 & -3\\\\ \n",
        "3 & 5\n",
        "\\end{pmatrix}$\n"
      ],
      "metadata": {
        "id": "R1vrDosav8Wn"
      }
    },
    {
      "cell_type": "code",
      "source": [
        "A = np.array([[1, -2], [3, 0]])\n",
        "B = np.array([[4, -1], [0, 5]])\n",
        "print('Matrix A ', A)\n",
        "print('Matrix B ', B)\n",
        "print ('A + B ', A + B)"
      ],
      "metadata": {
        "colab": {
          "base_uri": "https://localhost:8080/"
        },
        "id": "xvFpvta3w0IL",
        "outputId": "f97ad3be-6f08-4f97-f4ff-a547a9339111"
      },
      "execution_count": null,
      "outputs": [
        {
          "output_type": "stream",
          "name": "stdout",
          "text": [
            "Matrix A  [[ 1 -2]\n",
            " [ 3  0]]\n",
            "Matrix B  [[ 4 -1]\n",
            " [ 0  5]]\n",
            "A + B  [[ 5 -3]\n",
            " [ 3  5]]\n"
          ]
        }
      ]
    },
    {
      "cell_type": "markdown",
      "source": [
        "__3.__ Из закономерностей сложения и умножения матриц на число можно сделать вывод, что матрицы одного размера образуют линейное пространство. Вычислить линейную комбинацию $3A-2B+4C$ для матриц $A=\\begin{pmatrix}\n",
        "1 & 7\\\\ \n",
        "3 & -6\n",
        "\\end{pmatrix}$, $B=\\begin{pmatrix}\n",
        "0 & 5\\\\ \n",
        "2 & -1\n",
        "\\end{pmatrix}$, $C=\\begin{pmatrix}\n",
        "2 & -4\\\\ \n",
        "1 & 1\n",
        "\\end{pmatrix}.$\n",
        "\n",
        "$ 3A-2B+4C = 3 \\cdot \\begin{pmatrix}\n",
        "1 & 7\\\\ \n",
        "3 & -6\n",
        "\\end{pmatrix} - 2 \\cdot \\begin{pmatrix}\n",
        "0 & 5\\\\ \n",
        "2 & -1\n",
        "\\end{pmatrix} + 4 \\cdot \\begin{pmatrix}\n",
        "2 & -4\\\\ \n",
        "1 & 1\n",
        "\\end{pmatrix} = \\begin{pmatrix}\n",
        "3 & 21\\\\ \n",
        "9 & -18\n",
        "\\end{pmatrix} + \\begin{pmatrix}\n",
        "0 & -10\\\\ \n",
        "-4 & 2\n",
        "\\end{pmatrix}  + \\begin{pmatrix}\n",
        "8 & -16\\\\ \n",
        "4 & 4\n",
        "\\end{pmatrix} = \\begin{pmatrix}\n",
        "11 & -5\\\\ \n",
        "9 & -12\n",
        "\\end{pmatrix}$"
      ],
      "metadata": {
        "id": "pvikhrS2xWDe"
      }
    },
    {
      "cell_type": "code",
      "source": [
        "A = np.array([[1, 7], [3, -6]])\n",
        "B = np.array([[0, 5], [2, -1]])\n",
        "C = np.array([[2, -4], [1, 1]])\n",
        "print('Matrix A ', A)\n",
        "print('Matrix B ', B)\n",
        "print('Matrix C ', C)\n",
        "print ('3*A - 2 * B + 4 * C ', 3*A - 2 * B + 4 * C)"
      ],
      "metadata": {
        "colab": {
          "base_uri": "https://localhost:8080/"
        },
        "id": "jMPFf6OgxW15",
        "outputId": "5db4505e-3454-4dc9-d3ed-f1448d21b276"
      },
      "execution_count": null,
      "outputs": [
        {
          "output_type": "stream",
          "name": "stdout",
          "text": [
            "Matrix A  [[ 1  7]\n",
            " [ 3 -6]]\n",
            "Matrix B  [[ 0  5]\n",
            " [ 2 -1]]\n",
            "Matrix C  [[ 2 -4]\n",
            " [ 1  1]]\n",
            "3*A - 2 * B + 4 * C  [[ 11  -5]\n",
            " [  9 -12]]\n"
          ]
        }
      ]
    },
    {
      "cell_type": "markdown",
      "source": [
        "__4.__ Дана матрица $A=\\begin{pmatrix}\n",
        "4 & 1\\\\ \n",
        "5 & -2\\\\ \n",
        "2 & 3\n",
        "\\end{pmatrix}$.\n",
        "Вычислить $AA^{T}$ и $A^{T}A$.\n",
        "\n",
        "$A^{T} = \\begin{pmatrix}\n",
        "4 & 5 & 2\\\\ \n",
        "1 & -2 & 3\n",
        "\\end{pmatrix}$\n",
        "\n",
        "$ AA^{T} = \\begin{pmatrix}\n",
        "4 & 1\\\\ \n",
        "5 & -2\\\\ \n",
        "2 & 3\n",
        "\\end{pmatrix} \\cdot \\begin{pmatrix}\n",
        "4 & 5 & 2\\\\ \n",
        "1 & -2 & 3\n",
        "\\end{pmatrix} = \\begin{pmatrix}\n",
        "16 + 1 & 20 -2 & 8 + 3\\\\ \n",
        "20 - 2 & 25 + 4 & 10 - 6\\\\ \n",
        "8 + 3 & 10 - 6 & 4 + 9\n",
        "\\end{pmatrix} = \\begin{pmatrix}\n",
        "17 & 18 & 11\\\\ \n",
        "18 & 29 & 4\\\\ \n",
        "11 & 4 & 13\n",
        "\\end{pmatrix}$\n",
        "\n",
        "$ A^{T}A = \\begin{pmatrix}\n",
        "4 & 5 & 2\\\\ \n",
        "1 & -2 & 3\n",
        "\\end{pmatrix} \\cdot \\begin{pmatrix}\n",
        "4 & 1\\\\ \n",
        "5 & -2\\\\ \n",
        "2 & 3\n",
        "\\end{pmatrix}  = \\begin{pmatrix}\n",
        "16 + 25 + 4 & 4 -10 + 6\\\\ \n",
        "4 - 10 + 6 & 1 + 4 + 9\n",
        "\\end{pmatrix} = \\begin{pmatrix}\n",
        "45 & 0\\\\  \n",
        "0 & 14\n",
        "\\end{pmatrix}$"
      ],
      "metadata": {
        "id": "UIgaOpRUpsdu"
      }
    },
    {
      "cell_type": "code",
      "source": [
        "A = np.array([[4, 1], [5, -2], [2, 3]])\n",
        "print('Matrix A ', A)\n",
        "print('Matrix AT ', A.T)\n",
        "print('A * AT ', A @ A.T)\n",
        "print ('AT * A', A.T @ A)"
      ],
      "metadata": {
        "colab": {
          "base_uri": "https://localhost:8080/"
        },
        "id": "HkZnQa-c0lt0",
        "outputId": "a49a5274-0f44-46cd-9268-5d2d453870c3"
      },
      "execution_count": null,
      "outputs": [
        {
          "output_type": "stream",
          "name": "stdout",
          "text": [
            "Matrix A  [[ 4  1]\n",
            " [ 5 -2]\n",
            " [ 2  3]]\n",
            "Matrix AT  [[ 4  5  2]\n",
            " [ 1 -2  3]]\n",
            "A * AT  [[17 18 11]\n",
            " [18 29  4]\n",
            " [11  4 13]]\n",
            "AT * A [[45  0]\n",
            " [ 0 14]]\n"
          ]
        }
      ]
    },
    {
      "cell_type": "markdown",
      "source": [
        "###Практическое задание к уроку 2.2##"
      ],
      "metadata": {
        "id": "3Bp2Iy1EUWZJ"
      }
    },
    {
      "cell_type": "markdown",
      "source": [
        "__1.__ Вычислить определитель:\n",
        "\n",
        "   a)\n",
        "\n",
        "$$\\begin{vmatrix}\n",
        "sinx & -cosx\\\\ \n",
        "cosx & sinx\n",
        "\\end{vmatrix};$$\n",
        "\n",
        "$ det \\begin{vmatrix}\n",
        "sinx & -cosx\\\\ \n",
        "cosx & sinx\n",
        "\\end{vmatrix} = sin x \\cdot sin x - cos x \\cdot (-cosx) = sin ^2 x + cos ^2 x = 1$\n",
        "\n",
        "   б)\n",
        "    \n",
        "$$\\begin{vmatrix}\n",
        "4 & 2 & 3\\\\ \n",
        "0 & 5 & 1\\\\ \n",
        "0 & 0 & 9\n",
        "\\end{vmatrix};$$\n",
        "\n",
        "$ det \\begin{vmatrix}\n",
        "4 & 2 & 3\\\\ \n",
        "0 & 5 & 1\\\\ \n",
        "0 & 0 & 9\n",
        "\\end{vmatrix} = 4 \\cdot \\begin{vmatrix}\n",
        " 5 & 1\\\\ \n",
        " 0 & 9\n",
        "\\end{vmatrix} - 0 \\cdot \\begin{vmatrix}\n",
        "2 & 3\\\\ \n",
        "0 & 9\n",
        "\\end{vmatrix} + 0 \\cdot \\begin{vmatrix}\n",
        "2 & 3\\\\ \n",
        " 5 & 1\n",
        "\\end{vmatrix} = 4 \\cdot (5 \\cdot 9 - 0 \\cdot 1) = 180$\n",
        "\n",
        "    \n",
        "   в)\n",
        "\n",
        "$$\\begin{vmatrix}\n",
        "1 & 2 & 3\\\\ \n",
        "4 & 5 & 6\\\\ \n",
        "7 & 8 & 9\n",
        "\\end{vmatrix}.$$\n",
        "\n",
        "$ det \\begin{vmatrix}\n",
        "1 & 2 & 3\\\\ \n",
        "4 & 5 & 6\\\\ \n",
        "7 & 8 & 9\n",
        "\\end{vmatrix} = 1 \\cdot \\begin{vmatrix}\n",
        " 5 & 6\\\\ \n",
        " 8 & 9\n",
        "\\end{vmatrix} - 2 \\cdot \\begin{vmatrix}\n",
        "4 & 6\\\\ \n",
        "7 & 9\n",
        "\\end{vmatrix} + 3 \\cdot \\begin{vmatrix}\n",
        "4 & 5\\\\ \n",
        "7 & 8\n",
        "\\end{vmatrix} = 1 \\cdot (5 \\cdot 9 - 6 \\cdot 8) - 2 \\cdot (4 \\cdot 9 - 6 \\cdot 7) + 3 \\cdot (4 \\cdot 8 - 7 \\cdot 5)= 45 - 48 - 2 \\cdot (36 - 42) + 3 \\cdot (  32 - 35) = -3 + 12 - 9 = 0$"
      ],
      "metadata": {
        "id": "HECeQ2cspspW"
      }
    },
    {
      "cell_type": "code",
      "source": [
        "x = 5\n",
        "A = np.array([[math.sin(x), -math.cos(x)], [math.cos(x), math.sin(x)]])\n",
        "print('Matrix A ', A)\n",
        "print ('det(A)', np.linalg.det(A), '\\n')\n",
        "\n",
        "B = np.array([[4, 2, 3], [0, 5, 1], [0,0,9]])\n",
        "print('Matrix B ', B)\n",
        "print ('det(B)', np.linalg.det(B), '\\n')\n",
        "\n",
        "C = np.array([[1, 2, 3], [4, 5, 6], [7,8,9]])\n",
        "print('Matrix C ', C)\n",
        "print ('det(C)', np.linalg.det(C), '\\n')"
      ],
      "metadata": {
        "colab": {
          "base_uri": "https://localhost:8080/"
        },
        "id": "bnW4v5wb5h8A",
        "outputId": "f1a437fb-7d20-48c8-9d5c-2d13cc2d8627"
      },
      "execution_count": null,
      "outputs": [
        {
          "output_type": "stream",
          "name": "stdout",
          "text": [
            "Matrix A  [[-0.95892427 -0.28366219]\n",
            " [ 0.28366219 -0.95892427]]\n",
            "det(A) 1.0 \n",
            "\n",
            "Matrix B  [[4 2 3]\n",
            " [0 5 1]\n",
            " [0 0 9]]\n",
            "det(B) 180.0 \n",
            "\n",
            "Matrix C  [[1 2 3]\n",
            " [4 5 6]\n",
            " [7 8 9]]\n",
            "det(C) 0.0 \n",
            "\n"
          ]
        }
      ]
    },
    {
      "cell_type": "markdown",
      "source": [
        "__2.__ Определитель матрицы $A$ равен $4$. Найти:\n",
        "\n",
        "   а) $det(A^{2})$;\n",
        "\n",
        "   $det(AB)=detA\\cdot detB ⇒ det(A^{2}) = 4 \\cdot 4 = 16 $\n",
        "   $$$$ \n",
        "   б) $det(A^{T})$;\n",
        "\n",
        "   $detA^{T}=detA ⇒ det(A^{T}) = 4$ \n",
        "   $$$$\n",
        "    \n",
        "   в) $det(2A)$.\n",
        "   \n",
        "   Умножение строки или столбца матрицы на число  λ  приведет к умножению определителя матрицы на то же число $⇒ det(2A) = 8 $\n"
      ],
      "metadata": {
        "id": "BYDNhiXQ_XXb"
      }
    },
    {
      "cell_type": "markdown",
      "source": [
        "__3.__  Доказать, что матрица\n",
        "\n",
        "$$\\begin{pmatrix}\n",
        "-2 & 7 & -3\\\\ \n",
        "4 & -14 & 6\\\\ \n",
        "-3 & 7 & 13\n",
        "\\end{pmatrix}$$\n",
        "   \n",
        "вырожденная.\n",
        "$$$$\n",
        "Вырожденной называется матрица, определитель которой равен 0.\n",
        "$det \\begin{vmatrix}\n",
        "-2 & 7 & -3\\\\ \n",
        "4 & -14 & 6\\\\ \n",
        "-3 & 7 & 13\n",
        "\\end{vmatrix} = -2 \\cdot \\begin{vmatrix}\n",
        " -14 & 6\\\\ \n",
        "7 & 13\n",
        "\\end{vmatrix} - 4 \\cdot \\begin{vmatrix}\n",
        " 7 & -3\\\\  \n",
        " 7 & 13\n",
        "\\end{vmatrix}  - 3 \\cdot  \\begin{vmatrix}\n",
        " 7 & -3\\\\ \n",
        " -14 & 6\n",
        "\\end{vmatrix} =$\n",
        "$= -2 \\cdot (-14 \\cdot 13 - 7 \\cdot 6) - 4 \\cdot (7 \\cdot 13 + 21) - 3 \\cdot ( 7 \\cdot 6 - 14 \\cdot 3) =$\n",
        "$ = 2 \\cdot 14 \\cdot 13 + 2 \\cdot 7 \\cdot 6 - 2 \\cdot 14 \\cdot 13 - 4 \\cdot 21 - 3 \\cdot 0 = 2 \\cdot 14 \\cdot 13 - 2 \\cdot 14 \\cdot 13 + 2 \\cdot 21 \\cdot 2  - 4 \\cdot 21 = 0  $\n"
      ],
      "metadata": {
        "id": "qJk8U6ykBf7J"
      }
    },
    {
      "cell_type": "code",
      "source": [
        "A = np.array([[-2, 7, -3], [4, -14 , 6], [-3, 7 ,13]])\n",
        "print('Matrix A ', A)\n",
        "print ('det(A)', np.linalg.det(A), '\\n')\n"
      ],
      "metadata": {
        "colab": {
          "base_uri": "https://localhost:8080/"
        },
        "id": "wY_A5iE6DZ0d",
        "outputId": "d36e5948-9653-45b5-d083-862f7c74df17"
      },
      "execution_count": null,
      "outputs": [
        {
          "output_type": "stream",
          "name": "stdout",
          "text": [
            "Matrix A  [[ -2   7  -3]\n",
            " [  4 -14   6]\n",
            " [ -3   7  13]]\n",
            "det(A) 0.0 \n",
            "\n"
          ]
        }
      ]
    },
    {
      "cell_type": "markdown",
      "source": [
        "__4.__ Найти ранг матрицы:\n",
        "\n",
        "   а) $\\begin{pmatrix}\n",
        "1 & 2 & 3\\\\ \n",
        "1 & 1 & 1\\\\ \n",
        "2 & 3 & 4\n",
        "\\end{pmatrix};$\n",
        "$$$$\n",
        "Третья строка равняется сумме первой и второй строки, значит ее можно отбросить.\n",
        "\n",
        "$\\begin{pmatrix}\n",
        "1 & 2 & 3\\\\ \n",
        "1 & 1 & 1\n",
        "\\end{pmatrix}$\n",
        "\n",
        "Таким образом, ранг матрицы равен  2.\n",
        "$$$$\n",
        "\n",
        "   б) $\\begin{pmatrix}\n",
        "0 & 0 & 2 & 1\\\\ \n",
        "0 & 0 & 2 & 2\\\\ \n",
        "0 & 0 & 4 & 3\\\\ \n",
        "2 & 3 & 5 & 6\n",
        "\\end{pmatrix}.$\n",
        "$$$$\n",
        "Третья строка равняется сумме первой и второй строки, значит ее можно отбросить.\n",
        "\n",
        "$\\begin{pmatrix}\n",
        "0 & 0 & 2 & 1\\\\ \n",
        "0 & 0 & 2 & 2\\\\ \n",
        "2 & 3 & 5 & 6\n",
        "\\end{pmatrix}.$\n",
        "\n",
        "Таким образом, ранг матрицы равен  3."
      ],
      "metadata": {
        "id": "RXUPLFBypZl_"
      }
    },
    {
      "cell_type": "code",
      "source": [
        "A = np.array([[1,2,3],[1,1,1], [2,3,4]])\n",
        "r = np.linalg.matrix_rank(A)\n",
        "\n",
        "print(f'Ранг матрицы: {r}', '\\n')\n",
        "\n",
        "B = np.array([[0,0,2,1],[0,0,2,2], [0,0,4,4], [2,3,5,6]])\n",
        "r_1 = np.linalg.matrix_rank(B)\n",
        "\n",
        "print(f'Ранг матрицы: {r_1}', '\\n')\n"
      ],
      "metadata": {
        "colab": {
          "base_uri": "https://localhost:8080/"
        },
        "id": "WF_fh1VEKPHz",
        "outputId": "b6a185fc-2a5b-48d7-cbb2-8a7ab6560201"
      },
      "execution_count": null,
      "outputs": [
        {
          "output_type": "stream",
          "name": "stdout",
          "text": [
            "Ранг матрицы: 2 \n",
            "\n",
            "Ранг матрицы: 3 \n",
            "\n"
          ]
        }
      ]
    }
  ]
}