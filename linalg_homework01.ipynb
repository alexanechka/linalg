{
  "nbformat": 4,
  "nbformat_minor": 0,
  "metadata": {
    "colab": {
      "name": "linalg_homework01.ipynb",
      "provenance": [],
      "collapsed_sections": [],
      "authorship_tag": "ABX9TyPPyHxETiDeRt2IAaxoCzvp",
      "include_colab_link": true
    },
    "kernelspec": {
      "name": "python3",
      "display_name": "Python 3"
    },
    "language_info": {
      "name": "python"
    }
  },
  "cells": [
    {
      "cell_type": "markdown",
      "metadata": {
        "id": "view-in-github",
        "colab_type": "text"
      },
      "source": [
        "<a href=\"https://colab.research.google.com/github/alexanechka/linalg/blob/main/linalg_homework01.ipynb\" target=\"_parent\"><img src=\"https://colab.research.google.com/assets/colab-badge.svg\" alt=\"Open In Colab\"/></a>"
      ]
    },
    {
      "cell_type": "markdown",
      "source": [
        "\n",
        "##Линейная алгебра##\n",
        "###Практическое задание к уроку 1.1##"
      ],
      "metadata": {
        "id": "-jPyZxwXU4B0"
      }
    },
    {
      "cell_type": "code",
      "source": [
        "import numpy as np\n",
        "from numpy.linalg import norm\n",
        "import matplotlib.pyplot as plt"
      ],
      "metadata": {
        "id": "5BhL-CdxVGBb"
      },
      "execution_count": 1,
      "outputs": []
    },
    {
      "cell_type": "markdown",
      "source": [
        "__1.__ Исследовать на линейную зависимость:\n",
        "$f_{1}(x)=e^{x}, f_{2}(x)=1, f_{3}(x)=x+1, f_{4}(x)=x-e^{x}.$\n",
        "$$$$\n",
        "Векторы $u_{1},u_{2}, ...,u_{n}$ являются _линейно зависимыми_ , если найдутся такие числа $\\lambda_{1}, \\lambda_{2}, ..., \\lambda_{n}$, что хотя бы одно из них отлично от нуля и $\\lambda_{1}u_{1}+\\lambda_{2}u_{2}+...+\\lambda_{n}u_{n}=0.$\n",
        "$$$$\n",
        "$λ_{1} \\cdot e^{x} + λ_{2} \\cdot 1 + λ_{3} \\cdot (x+1) + λ_{4} \\cdot  (x-e^{x}) = 0$\n",
        "$$$$\n",
        "Пусть $λ_{1} = 1, λ_{4} = 1, λ_{2} = 1$ и $λ_{3} = -1$\n",
        "$$$$\n",
        "$ e^{x} + 1 -1 \\cdot (x+1) +  (x-e^{x}) = 0 ⇒$ векторы линейно зависимы\n"
      ],
      "metadata": {
        "id": "6tbLNp5YVHL6"
      }
    },
    {
      "cell_type": "markdown",
      "source": [
        "__2.__ Исследовать на линейную зависимость: $f_{1}(x)=2, f_{2}(x)=x, f_{3}(x)=x^{2}, f_{4}(x)=(x+1)^{2}.$\n",
        "$$$$\n",
        "Для того, чтобы некоторое множество элементов линейного пространства было линейно зависимым, необходимо и достаточно, чтобы один из этих элементов являлся линейной комбинацией остальных.\n",
        "$$$$\n",
        "$f_{4}(x)=x^2 + 2x +1 $\n",
        "$$$$\n",
        "$f_{4}(x)=f_{3} + 2 \\cdot f_{2} + \\frac{1}{2} \\cdot f_{1}  ⇒$ векторы линейно зависимы\n",
        "\n"
      ],
      "metadata": {
        "id": "9F7P7WFSlolH"
      }
    },
    {
      "cell_type": "markdown",
      "source": [
        "__3.__ Найти координаты вектора $x = (2, 3, 5)\\in \\mathbb{R}^{3}$ в базисе $b_{1}=(0, 0, 10)$, $b_{2}=(2, 0, 0)$, $b_{3}=(0, 1, 0)$.\n",
        "$$$$\n",
        "$x=(2, 3, 5)=(2,0,0)+(0, 3, 0)+(0, 0, 5)=\\frac {1}{2} \\cdot(0, 0, 10) + 1 \\cdot(2, 0, 0)+ 3 \\cdot(0, 1, 0)=\\frac {1}{2} b_{1}+b_{2}+3b_{3}$\n",
        "$$$$\n",
        "координаты вектора $x$ в  базисе являются $(\\frac {1}{2}, 1,3)$"
      ],
      "metadata": {
        "id": "yPobD0dto2Cx"
      }
    },
    {
      "cell_type": "markdown",
      "source": [
        "__4.__ Найти координаты вектора $3x^{2}-2x+2\\in\\mathbb{R}^{3}[x]$:\n",
        "\n",
        "   а) в базисе $1$, $x$, $x^{2}$. Координаты вектора $(2, -2, 3)$;\n",
        "\n",
        "   б) в базисе $x^{2}$, $x-1$, $1$. Координаты вектора $(3, -2, 0)$"
      ],
      "metadata": {
        "id": "I5i20Oeko2GX"
      }
    },
    {
      "cell_type": "markdown",
      "source": [
        "__5.__ Установить, является ли линейным подпространством:\n",
        "\n",
        "а) совокупность всех векторов трехмерного пространства, у которых по крайней мере одна из первых двух координат равна нулю;\n",
        "\n",
        "\n",
        "Подмножество $L$ линейного пространства $V$ является его подпространством, когда для любых элементов $u, v\\in L$ и любого $\\alpha \\in \\mathbb{R}$ выполняется условие:\n",
        "$1)\\ u+v\\in L;$\n",
        "\n",
        "К совокупности векторов относятся вектора: $u = (0,a,b)$, $v = (c,0,d)$ и $n = (0, 0, e)$\n",
        "\n",
        "В результате сложения $u$ и $v$ получается вектор, не относящийся к совокупности векторов, поэтому совокупность векторов не является линейным подпространством.\n",
        "$$$$    \n",
        "б) все векторы, являющиеся линейными комбинациями данных векторов $\\{u_{1}, u_{2}, ..., u_{n}\\}$.\n"
      ],
      "metadata": {
        "id": "VuBmlULEo2J-"
      }
    },
    {
      "cell_type": "markdown",
      "source": [
        "###Практическое задание к уроку 1.2##"
      ],
      "metadata": {
        "id": "NArM-u2TpzuI"
      }
    },
    {
      "cell_type": "markdown",
      "source": [
        "__1.__ Найти скалярное произведение векторов $x, y \\in \\mathbb{R}$:<br>\n",
        "а) $x=(0,-3, 6),~y=(-4, 7, 9);$<br>\n",
        "б) $x=(7, -4, 0, 1),~y=(-3, 1, 11, 2).$\n"
      ],
      "metadata": {
        "id": "QNX03UYwp9he"
      }
    },
    {
      "cell_type": "code",
      "source": [
        "#а\n",
        "x = np.array([0, -3, 6])\n",
        "y = np.array([-4, 7, 9])\n",
        "print(f'Скалярное произведение a и b:\\n{np.dot(x, y)}')"
      ],
      "metadata": {
        "colab": {
          "base_uri": "https://localhost:8080/"
        },
        "id": "cKt21EISQRJ9",
        "outputId": "0ccd1e41-f01b-45a1-d12b-db1e22d9ff7e"
      },
      "execution_count": 3,
      "outputs": [
        {
          "output_type": "stream",
          "name": "stdout",
          "text": [
            "Скалярное произведение a и b:\n",
            "33\n"
          ]
        }
      ]
    },
    {
      "cell_type": "code",
      "source": [
        "#б\n",
        "x = np.array([7, -4, 0, 1])\n",
        "y = np.array([-3, 1, 11, 2])\n",
        "print(f'Скалярное произведение a и b:\\n{x @ y}')"
      ],
      "metadata": {
        "colab": {
          "base_uri": "https://localhost:8080/"
        },
        "id": "bbjBlDUEQwZ0",
        "outputId": "7de45270-6e52-4d2e-ee86-b32bb971cdec"
      },
      "execution_count": 4,
      "outputs": [
        {
          "output_type": "stream",
          "name": "stdout",
          "text": [
            "Скалярное произведение a и b:\n",
            "-23\n"
          ]
        }
      ]
    },
    {
      "cell_type": "markdown",
      "source": [
        "__2.__ Найти нормы векторов $(4, 2, 4)$ и $(12, 3, 4)$ и угол между ними."
      ],
      "metadata": {
        "id": "8laAB_Kqp-lh"
      }
    },
    {
      "cell_type": "code",
      "source": [
        "a = np.array([4,2,4])\n",
        "b = np.array([12,3,4])\n",
        "print(f'l1 норма вектора a:\\n{norm(a, ord=1)}')\n",
        "print(f'l1 норма вектора b:\\n{norm(b, ord=1)}')"
      ],
      "metadata": {
        "colab": {
          "base_uri": "https://localhost:8080/"
        },
        "id": "CUDA02vbRHjF",
        "outputId": "33075834-8d39-4960-ea20-4a514c9ba6d4"
      },
      "execution_count": 6,
      "outputs": [
        {
          "output_type": "stream",
          "name": "stdout",
          "text": [
            "l1 норма вектора a:\n",
            "10.0\n",
            "l1 норма вектора b:\n",
            "19.0\n"
          ]
        }
      ]
    },
    {
      "cell_type": "code",
      "source": [
        "print(f'l2 норма вектора a:\\n{norm(a, ord=2)}')\n",
        "print(f'l2 норма вектора b:\\n{norm(b, ord=2)}')"
      ],
      "metadata": {
        "colab": {
          "base_uri": "https://localhost:8080/"
        },
        "id": "cKDPzWDSRpwb",
        "outputId": "866a5a5a-eb7a-4ff8-d51b-6d355fafd3ff"
      },
      "execution_count": 8,
      "outputs": [
        {
          "output_type": "stream",
          "name": "stdout",
          "text": [
            "l2 норма вектора a:\n",
            "6.0\n",
            "l2 норма вектора b:\n",
            "13.0\n"
          ]
        }
      ]
    },
    {
      "cell_type": "code",
      "source": [
        "cos_phi = np.dot(a, b) / norm(a) / norm(b)\n",
        "print(f'Косинус угла между a и b: {cos_phi:.2f}')\n",
        "print(f'Угол между a и b: {np.arccos(cos_phi):.2f}')"
      ],
      "metadata": {
        "colab": {
          "base_uri": "https://localhost:8080/"
        },
        "id": "3ljkY1LlR4e6",
        "outputId": "da4aa5ad-ac04-4d12-ca04-ef2c60099929"
      },
      "execution_count": 9,
      "outputs": [
        {
          "output_type": "stream",
          "name": "stdout",
          "text": [
            "Косинус угла между a и b: 0.90\n",
            "Угол между a и b: 0.46\n"
          ]
        }
      ]
    },
    {
      "cell_type": "markdown",
      "source": [
        "__3.__ Будет ли линейное пространство евклидовым, если за скалярное произведение принять:<br>\n",
        "а) произведение длин векторов;<br>\n",
        "б) утроенное обычное скалярное произведение векторов?"
      ],
      "metadata": {
        "id": "8Kc095OtqDFm"
      }
    },
    {
      "cell_type": "markdown",
      "source": [
        "__4.__ Какие из нижеперечисленных векторов образуют ортонормированный базис в линейном пространстве $\\mathbb{R}^{3}$:<br>\n",
        "а) $(1,0,0),(0,0,1);$ <br>\n",
        "б) $(1/\\sqrt{2},-1/\\sqrt{2},0),(1/\\sqrt{2},1/\\sqrt{2},0), (0,0,1);$<br>\n",
        "в) $(1/2, -1/2, 0), (0, 1/2, 1/2), (0,0,1);$<br>\n",
        "г) $(1,0,0),(0,1,0),(0,0,1)?$ "
      ],
      "metadata": {
        "id": "lSsIpduoqDK9"
      }
    }
  ]
}