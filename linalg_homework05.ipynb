{
  "nbformat": 4,
  "nbformat_minor": 0,
  "metadata": {
    "colab": {
      "name": "linalg_homework05.ipynb",
      "provenance": [],
      "collapsed_sections": [],
      "authorship_tag": "ABX9TyMauIXiqa7/Niq8i5A0Z+tv",
      "include_colab_link": true
    },
    "kernelspec": {
      "name": "python3",
      "display_name": "Python 3"
    },
    "language_info": {
      "name": "python"
    }
  },
  "cells": [
    {
      "cell_type": "markdown",
      "metadata": {
        "id": "view-in-github",
        "colab_type": "text"
      },
      "source": [
        "<a href=\"https://colab.research.google.com/github/alexanechka/linalg/blob/main/linalg_homework05.ipynb\" target=\"_parent\"><img src=\"https://colab.research.google.com/assets/colab-badge.svg\" alt=\"Open In Colab\"/></a>"
      ]
    },
    {
      "cell_type": "markdown",
      "source": [
        "\n",
        "##Линейная алгебра##\n",
        "###Практическое задание к уроку 5##"
      ],
      "metadata": {
        "id": "PGRSFnsGH2Rw"
      }
    },
    {
      "cell_type": "markdown",
      "source": [
        "1. Найти с помощью NumPy SVD для матрицы\n",
        "\n",
        "$$\\begin{pmatrix}\n",
        "1 & 2 & 0\\\\ \n",
        "0 & 0 & 5\\\\ \n",
        "3 & -4 & 2\\\\ \n",
        "1 & 6 & 5\\\\ \n",
        "0 & 1 & 0\n",
        "\\end{pmatrix}.$$"
      ],
      "metadata": {
        "id": "Eje5alOZH-ew"
      }
    },
    {
      "cell_type": "code",
      "source": [
        "import numpy as np\n",
        "np.set_printoptions(precision=2, suppress=True)"
      ],
      "metadata": {
        "id": "kJtzxVrzIMco"
      },
      "execution_count": 1,
      "outputs": []
    },
    {
      "cell_type": "code",
      "execution_count": 2,
      "metadata": {
        "id": "rXnJC-oHCzpE",
        "outputId": "38d76508-6aa9-4df0-c74c-5a7166c12bfd",
        "colab": {
          "base_uri": "https://localhost:8080/"
        }
      },
      "outputs": [
        {
          "output_type": "stream",
          "name": "stdout",
          "text": [
            "Матрица A:\n",
            "[[ 1  2  0]\n",
            " [ 0  0  5]\n",
            " [ 3 -4  2]\n",
            " [ 1  6  5]\n",
            " [ 0  1  0]]\n"
          ]
        }
      ],
      "source": [
        "A = np.array([[1, 2, 0],\n",
        "              [0, 0, 5],\n",
        "              [3, -4, 2],\n",
        "              [1, 6, 5],\n",
        "              [0,1,0]])\n",
        "print(f'Матрица A:\\n{A}')"
      ]
    },
    {
      "cell_type": "code",
      "execution_count": 3,
      "metadata": {
        "id": "jDJ4H2olCzpS"
      },
      "outputs": [],
      "source": [
        "U, s, W = np.linalg.svd(A)\n",
        "\n",
        "# Транспонируем матрицу W\n",
        "V = W.T\n",
        "\n",
        "# s - список диагональных элементов, его нужно привести к виду диагональной матрицы для наглядности\n",
        "D = np.zeros_like(A, dtype=float)\n",
        "D[np.diag_indices(min(A.shape))] = s"
      ]
    },
    {
      "cell_type": "code",
      "source": [
        "print(f'Матрица D:\\n{D}')"
      ],
      "metadata": {
        "colab": {
          "base_uri": "https://localhost:8080/"
        },
        "id": "56BbnZZ5IxKU",
        "outputId": "08389996-351e-4ad2-c102-9f918f60a637"
      },
      "execution_count": 4,
      "outputs": [
        {
          "output_type": "stream",
          "name": "stdout",
          "text": [
            "Матрица D:\n",
            "[[8.82 0.   0.  ]\n",
            " [0.   6.14 0.  ]\n",
            " [0.   0.   2.53]\n",
            " [0.   0.   0.  ]\n",
            " [0.   0.   0.  ]]\n"
          ]
        }
      ]
    },
    {
      "cell_type": "code",
      "source": [
        "print(f'Матрица U:\\n{U}')"
      ],
      "metadata": {
        "colab": {
          "base_uri": "https://localhost:8080/"
        },
        "id": "6SFFU_FXI0mD",
        "outputId": "d0ff5a2f-bd36-4ea0-d38c-14cd7936b6a4"
      },
      "execution_count": 5,
      "outputs": [
        {
          "output_type": "stream",
          "name": "stdout",
          "text": [
            "Матрица U:\n",
            "[[ 0.17  0.16 -0.53 -0.8  -0.16]\n",
            " [ 0.39 -0.53  0.61 -0.43  0.03]\n",
            " [-0.14 -0.82 -0.52  0.14  0.07]\n",
            " [ 0.89  0.06 -0.25  0.38 -0.06]\n",
            " [ 0.08  0.11 -0.08 -0.11  0.98]]\n"
          ]
        }
      ]
    },
    {
      "cell_type": "code",
      "source": [
        "# Убедимся, что она действительно ортогональна\n",
        "print(np.dot(U.T, U))"
      ],
      "metadata": {
        "colab": {
          "base_uri": "https://localhost:8080/"
        },
        "id": "G5T5fu2wI5If",
        "outputId": "507bc41b-12dc-47a3-e827-57b28a2d7f96"
      },
      "execution_count": 6,
      "outputs": [
        {
          "output_type": "stream",
          "name": "stdout",
          "text": [
            "[[ 1.  0. -0.  0. -0.]\n",
            " [ 0.  1.  0.  0.  0.]\n",
            " [-0.  0.  1. -0. -0.]\n",
            " [ 0.  0. -0.  1. -0.]\n",
            " [-0.  0. -0. -0.  1.]]\n"
          ]
        }
      ]
    },
    {
      "cell_type": "code",
      "source": [
        "print(f'Матрица V:\\n{V}')"
      ],
      "metadata": {
        "colab": {
          "base_uri": "https://localhost:8080/"
        },
        "id": "HaZcSJZAI8nH",
        "outputId": "41c8117c-5078-432b-e7f0-231da86c67e3"
      },
      "execution_count": 7,
      "outputs": [
        {
          "output_type": "stream",
          "name": "stdout",
          "text": [
            "Матрица V:\n",
            "[[ 0.07 -0.37 -0.93]\n",
            " [ 0.72  0.67 -0.21]\n",
            " [ 0.69 -0.65  0.31]]\n"
          ]
        }
      ]
    },
    {
      "cell_type": "code",
      "execution_count": 8,
      "metadata": {
        "id": "S82LygdpCzqt",
        "outputId": "d85ae752-2d00-4e80-990d-ad62a037b709",
        "colab": {
          "base_uri": "https://localhost:8080/"
        }
      },
      "outputs": [
        {
          "output_type": "stream",
          "name": "stdout",
          "text": [
            "[[ 1.  0. -0.]\n",
            " [ 0.  1. -0.]\n",
            " [-0. -0.  1.]]\n"
          ]
        }
      ],
      "source": [
        "# Убедимся, что она действительно ортогональна\n",
        "print(np.dot(V.T, V))"
      ]
    },
    {
      "cell_type": "code",
      "source": [
        "# Проведем проверку\n",
        "print(np.dot(np.dot(U, D), V.T))"
      ],
      "metadata": {
        "colab": {
          "base_uri": "https://localhost:8080/"
        },
        "id": "835-Sh-EJCYJ",
        "outputId": "7e8c029d-6b1e-47a1-da5c-3831f3184514"
      },
      "execution_count": 9,
      "outputs": [
        {
          "output_type": "stream",
          "name": "stdout",
          "text": [
            "[[ 1.  2.  0.]\n",
            " [ 0. -0.  5.]\n",
            " [ 3. -4.  2.]\n",
            " [ 1.  6.  5.]\n",
            " [-0.  1. -0.]]\n"
          ]
        }
      ]
    },
    {
      "cell_type": "markdown",
      "source": [
        "2. Для матрицы из предыдущего задания найти:\n",
        "\n",
        "а) евклидову норму;\n",
        "\n",
        "б) норму Фробениуса."
      ],
      "metadata": {
        "id": "o2VOwRosJ8f8"
      }
    },
    {
      "cell_type": "code",
      "source": [
        "np.linalg.norm(A, ord=2)"
      ],
      "metadata": {
        "colab": {
          "base_uri": "https://localhost:8080/"
        },
        "outputId": "b5fdf4f7-ef35-4b38-c597-0d9859586b4b",
        "id": "4lDQ9szgMnyr"
      },
      "execution_count": 17,
      "outputs": [
        {
          "output_type": "execute_result",
          "data": {
            "text/plain": [
              "8.824868854820444"
            ]
          },
          "metadata": {},
          "execution_count": 17
        }
      ]
    },
    {
      "cell_type": "code",
      "source": [
        "np.linalg.norm(A, ord='fro')"
      ],
      "metadata": {
        "colab": {
          "base_uri": "https://localhost:8080/"
        },
        "outputId": "9454557f-aa18-4cd2-a9df-ea949e2af108",
        "id": "lQA0yHNFNg0v"
      },
      "execution_count": 14,
      "outputs": [
        {
          "output_type": "execute_result",
          "data": {
            "text/plain": [
              "11.045361017187261"
            ]
          },
          "metadata": {},
          "execution_count": 14
        }
      ]
    }
  ]
}